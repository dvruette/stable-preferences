{
 "cells": [
  {
   "attachments": {},
   "cell_type": "markdown",
   "metadata": {},
   "source": [
    "## Examples for all automatic evaluation methods"
   ]
  },
  {
   "cell_type": "code",
   "execution_count": 11,
   "metadata": {},
   "outputs": [],
   "source": [
    "import torch"
   ]
  },
  {
   "cell_type": "code",
   "execution_count": 12,
   "metadata": {},
   "outputs": [
    {
     "data": {
      "text/plain": [
       "'cpu'"
      ]
     },
     "execution_count": 12,
     "metadata": {},
     "output_type": "execute_result"
    }
   ],
   "source": [
    "DEVICE = \"mps\" if torch.backends.mps.is_available() else \"cpu\"\n",
    "DEVICE = \"cuda\" if torch.cuda.is_available() else DEVICE\n",
    "DEVICE"
   ]
  },
  {
   "attachments": {},
   "cell_type": "markdown",
   "metadata": {},
   "source": [
    "### Clip Score"
   ]
  },
  {
   "cell_type": "code",
   "execution_count": 13,
   "metadata": {},
   "outputs": [],
   "source": [
    "from stable_preferences.evaluation.automatic.clip_score import ClipScore"
   ]
  },
  {
   "cell_type": "code",
   "execution_count": 14,
   "metadata": {},
   "outputs": [],
   "source": [
    "example_paths = [\n",
    "    \"/nese/mit/group/evlab/u/luwo/projects/projects/stable-preferences/example_1.png\",\n",
    "    \"/nese/mit/group/evlab/u/luwo/projects/projects/stable-preferences/example_2.png\",\n",
    "    \"/nese/mit/group/evlab/u/luwo/projects/projects/stable-preferences/example_3.png\",\n",
    "]\n",
    "\n",
    "PROMPT = \"a photo of an astronaut riding a horse on mars\""
   ]
  },
  {
   "cell_type": "code",
   "execution_count": 15,
   "metadata": {},
   "outputs": [],
   "source": [
    "# compute the CLIP score for each image\n",
    "\n",
    "clip_score_calculator = ClipScore()\n",
    "scores = [\n",
    "    clip_score_calculator.compute_clip_score_from_path(path, PROMPT)\n",
    "    for path in example_paths\n",
    "]\n",
    "\n",
    "# print the scores\n",
    "for i, path, score in enumerate(zip(example_paths, scores)):\n",
    "    print(f\"CLIP Score for image {i}:\", score)"
   ]
  },
  {
   "attachments": {},
   "cell_type": "markdown",
   "metadata": {},
   "source": [
    "### Human Preference Score (HPS)"
   ]
  },
  {
   "cell_type": "code",
   "execution_count": null,
   "metadata": {},
   "outputs": [],
   "source": [
    "from stable_preferences.evaluation.automatic.hps import HumanPreferenceScore"
   ]
  },
  {
   "cell_type": "code",
   "execution_count": null,
   "metadata": {},
   "outputs": [],
   "source": []
  }
 ],
 "metadata": {
  "kernelspec": {
   "display_name": "diffusion",
   "language": "python",
   "name": "python3"
  },
  "language_info": {
   "codemirror_mode": {
    "name": "ipython",
    "version": 3
   },
   "file_extension": ".py",
   "mimetype": "text/x-python",
   "name": "python",
   "nbconvert_exporter": "python",
   "pygments_lexer": "ipython3",
   "version": "3.9.16"
  },
  "orig_nbformat": 4
 },
 "nbformat": 4,
 "nbformat_minor": 2
}
